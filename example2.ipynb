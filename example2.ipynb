{
 "cells": [
  {
   "cell_type": "markdown",
   "id": "60299fba-daeb-43c4-961e-f9bfc68b159e",
   "metadata": {},
   "source": [
    "# This is a heading!"
   ]
  },
  {
   "cell_type": "markdown",
   "id": "88dbf6bc-757d-4154-9eb6-1e8deb1fb443",
   "metadata": {},
   "source": [
    "* Bullet 1\n",
    "* Bullet 2"
   ]
  },
  {
   "cell_type": "code",
   "execution_count": null,
   "id": "60695b28-b02b-4e9c-b191-3245cfe84f55",
   "metadata": {},
   "outputs": [],
   "source": []
  }
 ],
 "metadata": {
  "kernelspec": {
   "display_name": "Python 3 (ipykernel)",
   "language": "python",
   "name": "python3"
  },
  "language_info": {
   "codemirror_mode": {
    "name": "ipython",
    "version": 3
   },
   "file_extension": ".py",
   "mimetype": "text/x-python",
   "name": "python",
   "nbconvert_exporter": "python",
   "pygments_lexer": "ipython3",
   "version": "3.9.7"
  }
 },
 "nbformat": 4,
 "nbformat_minor": 5
}
